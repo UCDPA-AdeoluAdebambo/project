{
 "cells": [
  {
   "cell_type": "markdown",
   "id": "a77c3c6e-74e0-482c-8d7b-cc0a8fae3f8c",
   "metadata": {},
   "source": [
    "Alcohol consumption"
   ]
  },
  {
   "cell_type": "code",
   "execution_count": 1,
   "id": "efaca3dd-cbce-42d4-9a8a-925ec2828bc2",
   "metadata": {},
   "outputs": [],
   "source": [
    "import pandas as pd"
   ]
  },
  {
   "cell_type": "code",
   "execution_count": 2,
   "id": "e5784248-5f43-4a67-baa4-d46cadb8d8b1",
   "metadata": {},
   "outputs": [],
   "source": [
    "import numpy as np"
   ]
  },
  {
   "cell_type": "code",
   "execution_count": 3,
   "id": "3ef31f36-8388-4e45-b07c-a51d57992674",
   "metadata": {},
   "outputs": [],
   "source": [
    "import matplotlib.pyplot as plt"
   ]
  },
  {
   "cell_type": "code",
   "execution_count": 4,
   "id": "d240a40c-c5ef-481c-a283-8f16095f0ff2",
   "metadata": {},
   "outputs": [],
   "source": [
    "import seaborn as sns"
   ]
  },
  {
   "cell_type": "code",
   "execution_count": 9,
   "id": "3b5c0028-d9bd-4df5-bb6b-63bff5edcde4",
   "metadata": {},
   "outputs": [],
   "source": [
    "mydata = pd.read_csv(r'C:\\Users\\deor1\\OneDrive\\Desktop\\ucd data analysis\\gapminder_alcohol.csv')"
   ]
  },
  {
   "cell_type": "markdown",
   "id": "aa993c81-2836-468a-b795-15a1cdc80f7b",
   "metadata": {},
   "source": [
    "print mydata head"
   ]
  },
  {
   "cell_type": "code",
   "execution_count": 11,
   "id": "8b478370-d24b-413f-b665-8ebf7f28f87d",
   "metadata": {},
   "outputs": [
    {
     "name": "stdout",
     "output_type": "stream",
     "text": [
      "       country  alcconsumption  incomeperperson  suicideper100th  employrate  \\\n",
      "0  Afghanistan            0.03              NaN         6.684385   55.700001   \n",
      "1      Albania            7.29      1914.996551         7.699330   51.400002   \n",
      "2      Algeria            0.69      2231.993335         4.848770   50.500000   \n",
      "3      Andorra           10.17     21943.339900         5.362179         NaN   \n",
      "4       Angola            5.57      1381.004268        14.554677   75.699997   \n",
      "\n",
      "   urbanrate  \n",
      "0      24.04  \n",
      "1      46.72  \n",
      "2      65.22  \n",
      "3      88.92  \n",
      "4      56.70  \n"
     ]
    }
   ],
   "source": [
    "print(mydata.head())"
   ]
  },
  {
   "cell_type": "markdown",
   "id": "8415cac4-faae-4a11-b5bf-7aa2b9e1b88c",
   "metadata": {},
   "source": [
    "print mydata shape"
   ]
  },
  {
   "cell_type": "code",
   "execution_count": 13,
   "id": "b46b5d60-787c-4f9f-a719-dc2d9bc69575",
   "metadata": {},
   "outputs": [
    {
     "name": "stdout",
     "output_type": "stream",
     "text": [
      "(213, 6)\n"
     ]
    }
   ],
   "source": [
    "print(mydata.shape)"
   ]
  },
  {
   "cell_type": "markdown",
   "id": "d580f895-9716-41ab-b22f-8adb4f5014bb",
   "metadata": {},
   "source": [
    "Missing Values"
   ]
  },
  {
   "cell_type": "code",
   "execution_count": 14,
   "id": "811d0654-c902-4ba2-be81-9bbe578eeec2",
   "metadata": {},
   "outputs": [],
   "source": [
    "missing_values_count = mydata.isnull().sum()"
   ]
  },
  {
   "cell_type": "code",
   "execution_count": 16,
   "id": "5615aa4e-ff9e-43be-bb2f-9bb657dce695",
   "metadata": {},
   "outputs": [
    {
     "name": "stdout",
     "output_type": "stream",
     "text": [
      "country             0\n",
      "alcconsumption     26\n",
      "incomeperperson    23\n",
      "suicideper100th    22\n",
      "employrate         35\n",
      "dtype: int64\n"
     ]
    }
   ],
   "source": [
    "print(missing_values_count[0:5])"
   ]
  },
  {
   "cell_type": "code",
   "execution_count": 19,
   "id": "cf86db17-4f3f-4922-a092-425d570bd45e",
   "metadata": {},
   "outputs": [
    {
     "data": {
      "text/html": [
       "<div>\n",
       "<style scoped>\n",
       "    .dataframe tbody tr th:only-of-type {\n",
       "        vertical-align: middle;\n",
       "    }\n",
       "\n",
       "    .dataframe tbody tr th {\n",
       "        vertical-align: top;\n",
       "    }\n",
       "\n",
       "    .dataframe thead th {\n",
       "        text-align: right;\n",
       "    }\n",
       "</style>\n",
       "<table border=\"1\" class=\"dataframe\">\n",
       "  <thead>\n",
       "    <tr style=\"text-align: right;\">\n",
       "      <th></th>\n",
       "      <th>country</th>\n",
       "      <th>alcconsumption</th>\n",
       "      <th>incomeperperson</th>\n",
       "      <th>suicideper100th</th>\n",
       "      <th>employrate</th>\n",
       "      <th>urbanrate</th>\n",
       "    </tr>\n",
       "  </thead>\n",
       "  <tbody>\n",
       "    <tr>\n",
       "      <th>0</th>\n",
       "      <td>False</td>\n",
       "      <td>False</td>\n",
       "      <td>True</td>\n",
       "      <td>False</td>\n",
       "      <td>False</td>\n",
       "      <td>False</td>\n",
       "    </tr>\n",
       "    <tr>\n",
       "      <th>1</th>\n",
       "      <td>False</td>\n",
       "      <td>False</td>\n",
       "      <td>False</td>\n",
       "      <td>False</td>\n",
       "      <td>False</td>\n",
       "      <td>False</td>\n",
       "    </tr>\n",
       "    <tr>\n",
       "      <th>2</th>\n",
       "      <td>False</td>\n",
       "      <td>False</td>\n",
       "      <td>False</td>\n",
       "      <td>False</td>\n",
       "      <td>False</td>\n",
       "      <td>False</td>\n",
       "    </tr>\n",
       "    <tr>\n",
       "      <th>3</th>\n",
       "      <td>False</td>\n",
       "      <td>False</td>\n",
       "      <td>False</td>\n",
       "      <td>False</td>\n",
       "      <td>True</td>\n",
       "      <td>False</td>\n",
       "    </tr>\n",
       "    <tr>\n",
       "      <th>4</th>\n",
       "      <td>False</td>\n",
       "      <td>False</td>\n",
       "      <td>False</td>\n",
       "      <td>False</td>\n",
       "      <td>False</td>\n",
       "      <td>False</td>\n",
       "    </tr>\n",
       "    <tr>\n",
       "      <th>...</th>\n",
       "      <td>...</td>\n",
       "      <td>...</td>\n",
       "      <td>...</td>\n",
       "      <td>...</td>\n",
       "      <td>...</td>\n",
       "      <td>...</td>\n",
       "    </tr>\n",
       "    <tr>\n",
       "      <th>208</th>\n",
       "      <td>False</td>\n",
       "      <td>False</td>\n",
       "      <td>False</td>\n",
       "      <td>False</td>\n",
       "      <td>False</td>\n",
       "      <td>False</td>\n",
       "    </tr>\n",
       "    <tr>\n",
       "      <th>209</th>\n",
       "      <td>False</td>\n",
       "      <td>True</td>\n",
       "      <td>True</td>\n",
       "      <td>True</td>\n",
       "      <td>False</td>\n",
       "      <td>False</td>\n",
       "    </tr>\n",
       "    <tr>\n",
       "      <th>210</th>\n",
       "      <td>False</td>\n",
       "      <td>False</td>\n",
       "      <td>False</td>\n",
       "      <td>False</td>\n",
       "      <td>False</td>\n",
       "      <td>False</td>\n",
       "    </tr>\n",
       "    <tr>\n",
       "      <th>211</th>\n",
       "      <td>False</td>\n",
       "      <td>False</td>\n",
       "      <td>False</td>\n",
       "      <td>False</td>\n",
       "      <td>False</td>\n",
       "      <td>False</td>\n",
       "    </tr>\n",
       "    <tr>\n",
       "      <th>212</th>\n",
       "      <td>False</td>\n",
       "      <td>False</td>\n",
       "      <td>False</td>\n",
       "      <td>False</td>\n",
       "      <td>False</td>\n",
       "      <td>False</td>\n",
       "    </tr>\n",
       "  </tbody>\n",
       "</table>\n",
       "<p>213 rows × 6 columns</p>\n",
       "</div>"
      ],
      "text/plain": [
       "     country  alcconsumption  incomeperperson  suicideper100th  employrate  \\\n",
       "0      False           False             True            False       False   \n",
       "1      False           False            False            False       False   \n",
       "2      False           False            False            False       False   \n",
       "3      False           False            False            False        True   \n",
       "4      False           False            False            False       False   \n",
       "..       ...             ...              ...              ...         ...   \n",
       "208    False           False            False            False       False   \n",
       "209    False            True             True             True       False   \n",
       "210    False           False            False            False       False   \n",
       "211    False           False            False            False       False   \n",
       "212    False           False            False            False       False   \n",
       "\n",
       "     urbanrate  \n",
       "0        False  \n",
       "1        False  \n",
       "2        False  \n",
       "3        False  \n",
       "4        False  \n",
       "..         ...  \n",
       "208      False  \n",
       "209      False  \n",
       "210      False  \n",
       "211      False  \n",
       "212      False  \n",
       "\n",
       "[213 rows x 6 columns]"
      ]
     },
     "execution_count": 19,
     "metadata": {},
     "output_type": "execute_result"
    }
   ],
   "source": [
    "mydata.isna()"
   ]
  },
  {
   "cell_type": "markdown",
   "id": "e19a6068-6bad-4abe-a0f5-5d1b817fc0c1",
   "metadata": {},
   "source": [
    "Drop duplicates"
   ]
  },
  {
   "cell_type": "code",
   "execution_count": 17,
   "id": "ab8d17ce-cd6f-4ef2-849f-1c9d7b2b6437",
   "metadata": {},
   "outputs": [],
   "source": [
    "mydata.drop_duplicates(inplace=True)"
   ]
  },
  {
   "cell_type": "code",
   "execution_count": 18,
   "id": "36c642e5-9e64-4fa3-a4b9-8ce60c02b96f",
   "metadata": {},
   "outputs": [
    {
     "data": {
      "text/html": [
       "<div>\n",
       "<style scoped>\n",
       "    .dataframe tbody tr th:only-of-type {\n",
       "        vertical-align: middle;\n",
       "    }\n",
       "\n",
       "    .dataframe tbody tr th {\n",
       "        vertical-align: top;\n",
       "    }\n",
       "\n",
       "    .dataframe thead th {\n",
       "        text-align: right;\n",
       "    }\n",
       "</style>\n",
       "<table border=\"1\" class=\"dataframe\">\n",
       "  <thead>\n",
       "    <tr style=\"text-align: right;\">\n",
       "      <th></th>\n",
       "      <th>country</th>\n",
       "      <th>alcconsumption</th>\n",
       "      <th>incomeperperson</th>\n",
       "      <th>suicideper100th</th>\n",
       "      <th>employrate</th>\n",
       "      <th>urbanrate</th>\n",
       "    </tr>\n",
       "  </thead>\n",
       "  <tbody>\n",
       "    <tr>\n",
       "      <th>0</th>\n",
       "      <td>Afghanistan</td>\n",
       "      <td>0.03</td>\n",
       "      <td>NaN</td>\n",
       "      <td>6.684385</td>\n",
       "      <td>55.700001</td>\n",
       "      <td>24.04</td>\n",
       "    </tr>\n",
       "    <tr>\n",
       "      <th>1</th>\n",
       "      <td>Albania</td>\n",
       "      <td>7.29</td>\n",
       "      <td>1914.996551</td>\n",
       "      <td>7.699330</td>\n",
       "      <td>51.400002</td>\n",
       "      <td>46.72</td>\n",
       "    </tr>\n",
       "    <tr>\n",
       "      <th>2</th>\n",
       "      <td>Algeria</td>\n",
       "      <td>0.69</td>\n",
       "      <td>2231.993335</td>\n",
       "      <td>4.848770</td>\n",
       "      <td>50.500000</td>\n",
       "      <td>65.22</td>\n",
       "    </tr>\n",
       "    <tr>\n",
       "      <th>3</th>\n",
       "      <td>Andorra</td>\n",
       "      <td>10.17</td>\n",
       "      <td>21943.339900</td>\n",
       "      <td>5.362179</td>\n",
       "      <td>NaN</td>\n",
       "      <td>88.92</td>\n",
       "    </tr>\n",
       "    <tr>\n",
       "      <th>4</th>\n",
       "      <td>Angola</td>\n",
       "      <td>5.57</td>\n",
       "      <td>1381.004268</td>\n",
       "      <td>14.554677</td>\n",
       "      <td>75.699997</td>\n",
       "      <td>56.70</td>\n",
       "    </tr>\n",
       "    <tr>\n",
       "      <th>...</th>\n",
       "      <td>...</td>\n",
       "      <td>...</td>\n",
       "      <td>...</td>\n",
       "      <td>...</td>\n",
       "      <td>...</td>\n",
       "      <td>...</td>\n",
       "    </tr>\n",
       "    <tr>\n",
       "      <th>208</th>\n",
       "      <td>Vietnam</td>\n",
       "      <td>3.91</td>\n",
       "      <td>722.807559</td>\n",
       "      <td>11.653322</td>\n",
       "      <td>71.000000</td>\n",
       "      <td>27.84</td>\n",
       "    </tr>\n",
       "    <tr>\n",
       "      <th>209</th>\n",
       "      <td>West Bank and Gaza</td>\n",
       "      <td>NaN</td>\n",
       "      <td>NaN</td>\n",
       "      <td>NaN</td>\n",
       "      <td>32.000000</td>\n",
       "      <td>71.90</td>\n",
       "    </tr>\n",
       "    <tr>\n",
       "      <th>210</th>\n",
       "      <td>Yemen, Rep.</td>\n",
       "      <td>0.20</td>\n",
       "      <td>610.357367</td>\n",
       "      <td>6.265789</td>\n",
       "      <td>39.000000</td>\n",
       "      <td>30.64</td>\n",
       "    </tr>\n",
       "    <tr>\n",
       "      <th>211</th>\n",
       "      <td>Zambia</td>\n",
       "      <td>3.56</td>\n",
       "      <td>432.226337</td>\n",
       "      <td>12.019036</td>\n",
       "      <td>61.000000</td>\n",
       "      <td>35.42</td>\n",
       "    </tr>\n",
       "    <tr>\n",
       "      <th>212</th>\n",
       "      <td>Zimbabwe</td>\n",
       "      <td>4.96</td>\n",
       "      <td>320.771890</td>\n",
       "      <td>13.905267</td>\n",
       "      <td>66.800003</td>\n",
       "      <td>37.34</td>\n",
       "    </tr>\n",
       "  </tbody>\n",
       "</table>\n",
       "<p>213 rows × 6 columns</p>\n",
       "</div>"
      ],
      "text/plain": [
       "                country  alcconsumption  incomeperperson  suicideper100th  \\\n",
       "0           Afghanistan            0.03              NaN         6.684385   \n",
       "1               Albania            7.29      1914.996551         7.699330   \n",
       "2               Algeria            0.69      2231.993335         4.848770   \n",
       "3               Andorra           10.17     21943.339900         5.362179   \n",
       "4                Angola            5.57      1381.004268        14.554677   \n",
       "..                  ...             ...              ...              ...   \n",
       "208             Vietnam            3.91       722.807559        11.653322   \n",
       "209  West Bank and Gaza             NaN              NaN              NaN   \n",
       "210         Yemen, Rep.            0.20       610.357367         6.265789   \n",
       "211              Zambia            3.56       432.226337        12.019036   \n",
       "212            Zimbabwe            4.96       320.771890        13.905267   \n",
       "\n",
       "     employrate  urbanrate  \n",
       "0     55.700001      24.04  \n",
       "1     51.400002      46.72  \n",
       "2     50.500000      65.22  \n",
       "3           NaN      88.92  \n",
       "4     75.699997      56.70  \n",
       "..          ...        ...  \n",
       "208   71.000000      27.84  \n",
       "209   32.000000      71.90  \n",
       "210   39.000000      30.64  \n",
       "211   61.000000      35.42  \n",
       "212   66.800003      37.34  \n",
       "\n",
       "[213 rows x 6 columns]"
      ]
     },
     "execution_count": 18,
     "metadata": {},
     "output_type": "execute_result"
    }
   ],
   "source": [
    "mydata"
   ]
  },
  {
   "cell_type": "markdown",
   "id": "85260f07-5aea-4a58-aeb3-c6542a5fc74b",
   "metadata": {},
   "source": [
    "Fill Missing Values"
   ]
  },
  {
   "cell_type": "code",
   "execution_count": 22,
   "id": "3fa139e0-4f88-41ca-a11e-447602099ede",
   "metadata": {},
   "outputs": [
    {
     "data": {
      "text/html": [
       "<div>\n",
       "<style scoped>\n",
       "    .dataframe tbody tr th:only-of-type {\n",
       "        vertical-align: middle;\n",
       "    }\n",
       "\n",
       "    .dataframe tbody tr th {\n",
       "        vertical-align: top;\n",
       "    }\n",
       "\n",
       "    .dataframe thead th {\n",
       "        text-align: right;\n",
       "    }\n",
       "</style>\n",
       "<table border=\"1\" class=\"dataframe\">\n",
       "  <thead>\n",
       "    <tr style=\"text-align: right;\">\n",
       "      <th></th>\n",
       "      <th>country</th>\n",
       "      <th>alcconsumption</th>\n",
       "      <th>incomeperperson</th>\n",
       "      <th>suicideper100th</th>\n",
       "      <th>employrate</th>\n",
       "      <th>urbanrate</th>\n",
       "    </tr>\n",
       "  </thead>\n",
       "  <tbody>\n",
       "    <tr>\n",
       "      <th>0</th>\n",
       "      <td>Afghanistan</td>\n",
       "      <td>0.03</td>\n",
       "      <td>0.000000</td>\n",
       "      <td>6.684385</td>\n",
       "      <td>55.700001</td>\n",
       "      <td>24.04</td>\n",
       "    </tr>\n",
       "    <tr>\n",
       "      <th>1</th>\n",
       "      <td>Albania</td>\n",
       "      <td>7.29</td>\n",
       "      <td>1914.996551</td>\n",
       "      <td>7.699330</td>\n",
       "      <td>51.400002</td>\n",
       "      <td>46.72</td>\n",
       "    </tr>\n",
       "    <tr>\n",
       "      <th>2</th>\n",
       "      <td>Algeria</td>\n",
       "      <td>0.69</td>\n",
       "      <td>2231.993335</td>\n",
       "      <td>4.848770</td>\n",
       "      <td>50.500000</td>\n",
       "      <td>65.22</td>\n",
       "    </tr>\n",
       "    <tr>\n",
       "      <th>3</th>\n",
       "      <td>Andorra</td>\n",
       "      <td>10.17</td>\n",
       "      <td>21943.339900</td>\n",
       "      <td>5.362179</td>\n",
       "      <td>0.000000</td>\n",
       "      <td>88.92</td>\n",
       "    </tr>\n",
       "    <tr>\n",
       "      <th>4</th>\n",
       "      <td>Angola</td>\n",
       "      <td>5.57</td>\n",
       "      <td>1381.004268</td>\n",
       "      <td>14.554677</td>\n",
       "      <td>75.699997</td>\n",
       "      <td>56.70</td>\n",
       "    </tr>\n",
       "    <tr>\n",
       "      <th>...</th>\n",
       "      <td>...</td>\n",
       "      <td>...</td>\n",
       "      <td>...</td>\n",
       "      <td>...</td>\n",
       "      <td>...</td>\n",
       "      <td>...</td>\n",
       "    </tr>\n",
       "    <tr>\n",
       "      <th>208</th>\n",
       "      <td>Vietnam</td>\n",
       "      <td>3.91</td>\n",
       "      <td>722.807559</td>\n",
       "      <td>11.653322</td>\n",
       "      <td>71.000000</td>\n",
       "      <td>27.84</td>\n",
       "    </tr>\n",
       "    <tr>\n",
       "      <th>209</th>\n",
       "      <td>West Bank and Gaza</td>\n",
       "      <td>0.00</td>\n",
       "      <td>0.000000</td>\n",
       "      <td>0.000000</td>\n",
       "      <td>32.000000</td>\n",
       "      <td>71.90</td>\n",
       "    </tr>\n",
       "    <tr>\n",
       "      <th>210</th>\n",
       "      <td>Yemen, Rep.</td>\n",
       "      <td>0.20</td>\n",
       "      <td>610.357367</td>\n",
       "      <td>6.265789</td>\n",
       "      <td>39.000000</td>\n",
       "      <td>30.64</td>\n",
       "    </tr>\n",
       "    <tr>\n",
       "      <th>211</th>\n",
       "      <td>Zambia</td>\n",
       "      <td>3.56</td>\n",
       "      <td>432.226337</td>\n",
       "      <td>12.019036</td>\n",
       "      <td>61.000000</td>\n",
       "      <td>35.42</td>\n",
       "    </tr>\n",
       "    <tr>\n",
       "      <th>212</th>\n",
       "      <td>Zimbabwe</td>\n",
       "      <td>4.96</td>\n",
       "      <td>320.771890</td>\n",
       "      <td>13.905267</td>\n",
       "      <td>66.800003</td>\n",
       "      <td>37.34</td>\n",
       "    </tr>\n",
       "  </tbody>\n",
       "</table>\n",
       "<p>213 rows × 6 columns</p>\n",
       "</div>"
      ],
      "text/plain": [
       "                country  alcconsumption  incomeperperson  suicideper100th  \\\n",
       "0           Afghanistan            0.03         0.000000         6.684385   \n",
       "1               Albania            7.29      1914.996551         7.699330   \n",
       "2               Algeria            0.69      2231.993335         4.848770   \n",
       "3               Andorra           10.17     21943.339900         5.362179   \n",
       "4                Angola            5.57      1381.004268        14.554677   \n",
       "..                  ...             ...              ...              ...   \n",
       "208             Vietnam            3.91       722.807559        11.653322   \n",
       "209  West Bank and Gaza            0.00         0.000000         0.000000   \n",
       "210         Yemen, Rep.            0.20       610.357367         6.265789   \n",
       "211              Zambia            3.56       432.226337        12.019036   \n",
       "212            Zimbabwe            4.96       320.771890        13.905267   \n",
       "\n",
       "     employrate  urbanrate  \n",
       "0     55.700001      24.04  \n",
       "1     51.400002      46.72  \n",
       "2     50.500000      65.22  \n",
       "3      0.000000      88.92  \n",
       "4     75.699997      56.70  \n",
       "..          ...        ...  \n",
       "208   71.000000      27.84  \n",
       "209   32.000000      71.90  \n",
       "210   39.000000      30.64  \n",
       "211   61.000000      35.42  \n",
       "212   66.800003      37.34  \n",
       "\n",
       "[213 rows x 6 columns]"
      ]
     },
     "execution_count": 22,
     "metadata": {},
     "output_type": "execute_result"
    }
   ],
   "source": [
    "mydata.fillna(0)"
   ]
  },
  {
   "cell_type": "markdown",
   "id": "8babf88b-8ab2-4af8-bf8d-5e7e9a004e2a",
   "metadata": {},
   "source": [
    "Grouping"
   ]
  },
  {
   "cell_type": "code",
   "execution_count": 23,
   "id": "96f87d01-838b-466a-b5de-7cb83e124bc2",
   "metadata": {},
   "outputs": [
    {
     "data": {
      "text/plain": [
       "alcconsumption        6.689412\n",
       "incomeperperson    8740.966076\n",
       "suicideper100th       9.640839\n",
       "employrate           58.635955\n",
       "urbanrate            56.769360\n",
       "dtype: float64"
      ]
     },
     "execution_count": 23,
     "metadata": {},
     "output_type": "execute_result"
    }
   ],
   "source": [
    "mydata.mean()"
   ]
  },
  {
   "cell_type": "code",
   "execution_count": 25,
   "id": "c7a67add-60dd-4635-b922-389e8f9f1bb8",
   "metadata": {},
   "outputs": [
    {
     "data": {
      "text/html": [
       "<div>\n",
       "<style scoped>\n",
       "    .dataframe tbody tr th:only-of-type {\n",
       "        vertical-align: middle;\n",
       "    }\n",
       "\n",
       "    .dataframe tbody tr th {\n",
       "        vertical-align: top;\n",
       "    }\n",
       "\n",
       "    .dataframe thead th {\n",
       "        text-align: right;\n",
       "    }\n",
       "</style>\n",
       "<table border=\"1\" class=\"dataframe\">\n",
       "  <thead>\n",
       "    <tr style=\"text-align: right;\">\n",
       "      <th></th>\n",
       "      <th></th>\n",
       "      <th></th>\n",
       "      <th>suicideper100th</th>\n",
       "      <th>employrate</th>\n",
       "      <th>urbanrate</th>\n",
       "    </tr>\n",
       "    <tr>\n",
       "      <th>country</th>\n",
       "      <th>alcconsumption</th>\n",
       "      <th>incomeperperson</th>\n",
       "      <th></th>\n",
       "      <th></th>\n",
       "      <th></th>\n",
       "    </tr>\n",
       "  </thead>\n",
       "  <tbody>\n",
       "    <tr>\n",
       "      <th>Albania</th>\n",
       "      <th>7.29</th>\n",
       "      <th>1914.996551</th>\n",
       "      <td>7.699330</td>\n",
       "      <td>51.400002</td>\n",
       "      <td>46.72</td>\n",
       "    </tr>\n",
       "    <tr>\n",
       "      <th>Algeria</th>\n",
       "      <th>0.69</th>\n",
       "      <th>2231.993335</th>\n",
       "      <td>4.848770</td>\n",
       "      <td>50.500000</td>\n",
       "      <td>65.22</td>\n",
       "    </tr>\n",
       "    <tr>\n",
       "      <th>Andorra</th>\n",
       "      <th>10.17</th>\n",
       "      <th>21943.339900</th>\n",
       "      <td>5.362179</td>\n",
       "      <td>NaN</td>\n",
       "      <td>88.92</td>\n",
       "    </tr>\n",
       "    <tr>\n",
       "      <th>Angola</th>\n",
       "      <th>5.57</th>\n",
       "      <th>1381.004268</th>\n",
       "      <td>14.554677</td>\n",
       "      <td>75.699997</td>\n",
       "      <td>56.70</td>\n",
       "    </tr>\n",
       "    <tr>\n",
       "      <th>Antigua and Barbuda</th>\n",
       "      <th>8.17</th>\n",
       "      <th>11894.464070</th>\n",
       "      <td>2.161843</td>\n",
       "      <td>NaN</td>\n",
       "      <td>30.46</td>\n",
       "    </tr>\n",
       "    <tr>\n",
       "      <th>...</th>\n",
       "      <th>...</th>\n",
       "      <th>...</th>\n",
       "      <td>...</td>\n",
       "      <td>...</td>\n",
       "      <td>...</td>\n",
       "    </tr>\n",
       "    <tr>\n",
       "      <th>Venezuela</th>\n",
       "      <th>7.60</th>\n",
       "      <th>5528.363114</th>\n",
       "      <td>4.119620</td>\n",
       "      <td>59.900002</td>\n",
       "      <td>93.32</td>\n",
       "    </tr>\n",
       "    <tr>\n",
       "      <th>Vietnam</th>\n",
       "      <th>3.91</th>\n",
       "      <th>722.807559</th>\n",
       "      <td>11.653322</td>\n",
       "      <td>71.000000</td>\n",
       "      <td>27.84</td>\n",
       "    </tr>\n",
       "    <tr>\n",
       "      <th>Yemen, Rep.</th>\n",
       "      <th>0.20</th>\n",
       "      <th>610.357367</th>\n",
       "      <td>6.265789</td>\n",
       "      <td>39.000000</td>\n",
       "      <td>30.64</td>\n",
       "    </tr>\n",
       "    <tr>\n",
       "      <th>Zambia</th>\n",
       "      <th>3.56</th>\n",
       "      <th>432.226337</th>\n",
       "      <td>12.019036</td>\n",
       "      <td>61.000000</td>\n",
       "      <td>35.42</td>\n",
       "    </tr>\n",
       "    <tr>\n",
       "      <th>Zimbabwe</th>\n",
       "      <th>4.96</th>\n",
       "      <th>320.771890</th>\n",
       "      <td>13.905267</td>\n",
       "      <td>66.800003</td>\n",
       "      <td>37.34</td>\n",
       "    </tr>\n",
       "  </tbody>\n",
       "</table>\n",
       "<p>179 rows × 3 columns</p>\n",
       "</div>"
      ],
      "text/plain": [
       "                                                    suicideper100th  \\\n",
       "country             alcconsumption incomeperperson                    \n",
       "Albania             7.29           1914.996551             7.699330   \n",
       "Algeria             0.69           2231.993335             4.848770   \n",
       "Andorra             10.17          21943.339900            5.362179   \n",
       "Angola              5.57           1381.004268            14.554677   \n",
       "Antigua and Barbuda 8.17           11894.464070            2.161843   \n",
       "...                                                             ...   \n",
       "Venezuela           7.60           5528.363114             4.119620   \n",
       "Vietnam             3.91           722.807559             11.653322   \n",
       "Yemen, Rep.         0.20           610.357367              6.265789   \n",
       "Zambia              3.56           432.226337             12.019036   \n",
       "Zimbabwe            4.96           320.771890             13.905267   \n",
       "\n",
       "                                                    employrate  urbanrate  \n",
       "country             alcconsumption incomeperperson                         \n",
       "Albania             7.29           1914.996551       51.400002      46.72  \n",
       "Algeria             0.69           2231.993335       50.500000      65.22  \n",
       "Andorra             10.17          21943.339900            NaN      88.92  \n",
       "Angola              5.57           1381.004268       75.699997      56.70  \n",
       "Antigua and Barbuda 8.17           11894.464070            NaN      30.46  \n",
       "...                                                        ...        ...  \n",
       "Venezuela           7.60           5528.363114       59.900002      93.32  \n",
       "Vietnam             3.91           722.807559        71.000000      27.84  \n",
       "Yemen, Rep.         0.20           610.357367        39.000000      30.64  \n",
       "Zambia              3.56           432.226337        61.000000      35.42  \n",
       "Zimbabwe            4.96           320.771890        66.800003      37.34  \n",
       "\n",
       "[179 rows x 3 columns]"
      ]
     },
     "execution_count": 25,
     "metadata": {},
     "output_type": "execute_result"
    }
   ],
   "source": [
    "mydata.groupby(['country','alcconsumption','incomeperperson']).mean()"
   ]
  },
  {
   "cell_type": "markdown",
   "id": "ef27d0e6-48d1-4d57-a94b-d27462053e3c",
   "metadata": {},
   "source": [
    "Indexing"
   ]
  },
  {
   "cell_type": "code",
   "execution_count": 26,
   "id": "3b3aebab-a5c5-42c7-bf45-c1c5e74d5f27",
   "metadata": {},
   "outputs": [
    {
     "data": {
      "text/html": [
       "<div>\n",
       "<style scoped>\n",
       "    .dataframe tbody tr th:only-of-type {\n",
       "        vertical-align: middle;\n",
       "    }\n",
       "\n",
       "    .dataframe tbody tr th {\n",
       "        vertical-align: top;\n",
       "    }\n",
       "\n",
       "    .dataframe thead th {\n",
       "        text-align: right;\n",
       "    }\n",
       "</style>\n",
       "<table border=\"1\" class=\"dataframe\">\n",
       "  <thead>\n",
       "    <tr style=\"text-align: right;\">\n",
       "      <th></th>\n",
       "      <th>country</th>\n",
       "      <th>alcconsumption</th>\n",
       "      <th>incomeperperson</th>\n",
       "      <th>suicideper100th</th>\n",
       "      <th>employrate</th>\n",
       "      <th>urbanrate</th>\n",
       "    </tr>\n",
       "  </thead>\n",
       "  <tbody>\n",
       "    <tr>\n",
       "      <th>0</th>\n",
       "      <td>Afghanistan</td>\n",
       "      <td>0.03</td>\n",
       "      <td>NaN</td>\n",
       "      <td>6.684385</td>\n",
       "      <td>55.700001</td>\n",
       "      <td>24.04</td>\n",
       "    </tr>\n",
       "    <tr>\n",
       "      <th>1</th>\n",
       "      <td>Albania</td>\n",
       "      <td>7.29</td>\n",
       "      <td>1914.996551</td>\n",
       "      <td>7.699330</td>\n",
       "      <td>51.400002</td>\n",
       "      <td>46.72</td>\n",
       "    </tr>\n",
       "    <tr>\n",
       "      <th>2</th>\n",
       "      <td>Algeria</td>\n",
       "      <td>0.69</td>\n",
       "      <td>2231.993335</td>\n",
       "      <td>4.848770</td>\n",
       "      <td>50.500000</td>\n",
       "      <td>65.22</td>\n",
       "    </tr>\n",
       "    <tr>\n",
       "      <th>3</th>\n",
       "      <td>Andorra</td>\n",
       "      <td>10.17</td>\n",
       "      <td>21943.339900</td>\n",
       "      <td>5.362179</td>\n",
       "      <td>NaN</td>\n",
       "      <td>88.92</td>\n",
       "    </tr>\n",
       "    <tr>\n",
       "      <th>4</th>\n",
       "      <td>Angola</td>\n",
       "      <td>5.57</td>\n",
       "      <td>1381.004268</td>\n",
       "      <td>14.554677</td>\n",
       "      <td>75.699997</td>\n",
       "      <td>56.70</td>\n",
       "    </tr>\n",
       "    <tr>\n",
       "      <th>...</th>\n",
       "      <td>...</td>\n",
       "      <td>...</td>\n",
       "      <td>...</td>\n",
       "      <td>...</td>\n",
       "      <td>...</td>\n",
       "      <td>...</td>\n",
       "    </tr>\n",
       "    <tr>\n",
       "      <th>208</th>\n",
       "      <td>Vietnam</td>\n",
       "      <td>3.91</td>\n",
       "      <td>722.807559</td>\n",
       "      <td>11.653322</td>\n",
       "      <td>71.000000</td>\n",
       "      <td>27.84</td>\n",
       "    </tr>\n",
       "    <tr>\n",
       "      <th>209</th>\n",
       "      <td>West Bank and Gaza</td>\n",
       "      <td>NaN</td>\n",
       "      <td>NaN</td>\n",
       "      <td>NaN</td>\n",
       "      <td>32.000000</td>\n",
       "      <td>71.90</td>\n",
       "    </tr>\n",
       "    <tr>\n",
       "      <th>210</th>\n",
       "      <td>Yemen, Rep.</td>\n",
       "      <td>0.20</td>\n",
       "      <td>610.357367</td>\n",
       "      <td>6.265789</td>\n",
       "      <td>39.000000</td>\n",
       "      <td>30.64</td>\n",
       "    </tr>\n",
       "    <tr>\n",
       "      <th>211</th>\n",
       "      <td>Zambia</td>\n",
       "      <td>3.56</td>\n",
       "      <td>432.226337</td>\n",
       "      <td>12.019036</td>\n",
       "      <td>61.000000</td>\n",
       "      <td>35.42</td>\n",
       "    </tr>\n",
       "    <tr>\n",
       "      <th>212</th>\n",
       "      <td>Zimbabwe</td>\n",
       "      <td>4.96</td>\n",
       "      <td>320.771890</td>\n",
       "      <td>13.905267</td>\n",
       "      <td>66.800003</td>\n",
       "      <td>37.34</td>\n",
       "    </tr>\n",
       "  </tbody>\n",
       "</table>\n",
       "<p>213 rows × 6 columns</p>\n",
       "</div>"
      ],
      "text/plain": [
       "                country  alcconsumption  incomeperperson  suicideper100th  \\\n",
       "0           Afghanistan            0.03              NaN         6.684385   \n",
       "1               Albania            7.29      1914.996551         7.699330   \n",
       "2               Algeria            0.69      2231.993335         4.848770   \n",
       "3               Andorra           10.17     21943.339900         5.362179   \n",
       "4                Angola            5.57      1381.004268        14.554677   \n",
       "..                  ...             ...              ...              ...   \n",
       "208             Vietnam            3.91       722.807559        11.653322   \n",
       "209  West Bank and Gaza             NaN              NaN              NaN   \n",
       "210         Yemen, Rep.            0.20       610.357367         6.265789   \n",
       "211              Zambia            3.56       432.226337        12.019036   \n",
       "212            Zimbabwe            4.96       320.771890        13.905267   \n",
       "\n",
       "     employrate  urbanrate  \n",
       "0     55.700001      24.04  \n",
       "1     51.400002      46.72  \n",
       "2     50.500000      65.22  \n",
       "3           NaN      88.92  \n",
       "4     75.699997      56.70  \n",
       "..          ...        ...  \n",
       "208   71.000000      27.84  \n",
       "209   32.000000      71.90  \n",
       "210   39.000000      30.64  \n",
       "211   61.000000      35.42  \n",
       "212   66.800003      37.34  \n",
       "\n",
       "[213 rows x 6 columns]"
      ]
     },
     "execution_count": 26,
     "metadata": {},
     "output_type": "execute_result"
    }
   ],
   "source": [
    "mydata"
   ]
  },
  {
   "cell_type": "code",
   "execution_count": 27,
   "id": "e6cf5113-6fe1-4a13-9c80-7d0f90f80e52",
   "metadata": {},
   "outputs": [
    {
     "data": {
      "text/html": [
       "<div>\n",
       "<style scoped>\n",
       "    .dataframe tbody tr th:only-of-type {\n",
       "        vertical-align: middle;\n",
       "    }\n",
       "\n",
       "    .dataframe tbody tr th {\n",
       "        vertical-align: top;\n",
       "    }\n",
       "\n",
       "    .dataframe thead th {\n",
       "        text-align: right;\n",
       "    }\n",
       "</style>\n",
       "<table border=\"1\" class=\"dataframe\">\n",
       "  <thead>\n",
       "    <tr style=\"text-align: right;\">\n",
       "      <th></th>\n",
       "      <th>alcconsumption</th>\n",
       "      <th>incomeperperson</th>\n",
       "      <th>suicideper100th</th>\n",
       "      <th>employrate</th>\n",
       "      <th>urbanrate</th>\n",
       "    </tr>\n",
       "    <tr>\n",
       "      <th>country</th>\n",
       "      <th></th>\n",
       "      <th></th>\n",
       "      <th></th>\n",
       "      <th></th>\n",
       "      <th></th>\n",
       "    </tr>\n",
       "  </thead>\n",
       "  <tbody>\n",
       "    <tr>\n",
       "      <th>Afghanistan</th>\n",
       "      <td>0.03</td>\n",
       "      <td>NaN</td>\n",
       "      <td>6.684385</td>\n",
       "      <td>55.700001</td>\n",
       "      <td>24.04</td>\n",
       "    </tr>\n",
       "    <tr>\n",
       "      <th>Albania</th>\n",
       "      <td>7.29</td>\n",
       "      <td>1914.996551</td>\n",
       "      <td>7.699330</td>\n",
       "      <td>51.400002</td>\n",
       "      <td>46.72</td>\n",
       "    </tr>\n",
       "    <tr>\n",
       "      <th>Algeria</th>\n",
       "      <td>0.69</td>\n",
       "      <td>2231.993335</td>\n",
       "      <td>4.848770</td>\n",
       "      <td>50.500000</td>\n",
       "      <td>65.22</td>\n",
       "    </tr>\n",
       "    <tr>\n",
       "      <th>Andorra</th>\n",
       "      <td>10.17</td>\n",
       "      <td>21943.339900</td>\n",
       "      <td>5.362179</td>\n",
       "      <td>NaN</td>\n",
       "      <td>88.92</td>\n",
       "    </tr>\n",
       "    <tr>\n",
       "      <th>Angola</th>\n",
       "      <td>5.57</td>\n",
       "      <td>1381.004268</td>\n",
       "      <td>14.554677</td>\n",
       "      <td>75.699997</td>\n",
       "      <td>56.70</td>\n",
       "    </tr>\n",
       "    <tr>\n",
       "      <th>...</th>\n",
       "      <td>...</td>\n",
       "      <td>...</td>\n",
       "      <td>...</td>\n",
       "      <td>...</td>\n",
       "      <td>...</td>\n",
       "    </tr>\n",
       "    <tr>\n",
       "      <th>Vietnam</th>\n",
       "      <td>3.91</td>\n",
       "      <td>722.807559</td>\n",
       "      <td>11.653322</td>\n",
       "      <td>71.000000</td>\n",
       "      <td>27.84</td>\n",
       "    </tr>\n",
       "    <tr>\n",
       "      <th>West Bank and Gaza</th>\n",
       "      <td>NaN</td>\n",
       "      <td>NaN</td>\n",
       "      <td>NaN</td>\n",
       "      <td>32.000000</td>\n",
       "      <td>71.90</td>\n",
       "    </tr>\n",
       "    <tr>\n",
       "      <th>Yemen, Rep.</th>\n",
       "      <td>0.20</td>\n",
       "      <td>610.357367</td>\n",
       "      <td>6.265789</td>\n",
       "      <td>39.000000</td>\n",
       "      <td>30.64</td>\n",
       "    </tr>\n",
       "    <tr>\n",
       "      <th>Zambia</th>\n",
       "      <td>3.56</td>\n",
       "      <td>432.226337</td>\n",
       "      <td>12.019036</td>\n",
       "      <td>61.000000</td>\n",
       "      <td>35.42</td>\n",
       "    </tr>\n",
       "    <tr>\n",
       "      <th>Zimbabwe</th>\n",
       "      <td>4.96</td>\n",
       "      <td>320.771890</td>\n",
       "      <td>13.905267</td>\n",
       "      <td>66.800003</td>\n",
       "      <td>37.34</td>\n",
       "    </tr>\n",
       "  </tbody>\n",
       "</table>\n",
       "<p>213 rows × 5 columns</p>\n",
       "</div>"
      ],
      "text/plain": [
       "                    alcconsumption  incomeperperson  suicideper100th  \\\n",
       "country                                                                \n",
       "Afghanistan                   0.03              NaN         6.684385   \n",
       "Albania                       7.29      1914.996551         7.699330   \n",
       "Algeria                       0.69      2231.993335         4.848770   \n",
       "Andorra                      10.17     21943.339900         5.362179   \n",
       "Angola                        5.57      1381.004268        14.554677   \n",
       "...                            ...              ...              ...   \n",
       "Vietnam                       3.91       722.807559        11.653322   \n",
       "West Bank and Gaza             NaN              NaN              NaN   \n",
       "Yemen, Rep.                   0.20       610.357367         6.265789   \n",
       "Zambia                        3.56       432.226337        12.019036   \n",
       "Zimbabwe                      4.96       320.771890        13.905267   \n",
       "\n",
       "                    employrate  urbanrate  \n",
       "country                                    \n",
       "Afghanistan          55.700001      24.04  \n",
       "Albania              51.400002      46.72  \n",
       "Algeria              50.500000      65.22  \n",
       "Andorra                    NaN      88.92  \n",
       "Angola               75.699997      56.70  \n",
       "...                        ...        ...  \n",
       "Vietnam              71.000000      27.84  \n",
       "West Bank and Gaza   32.000000      71.90  \n",
       "Yemen, Rep.          39.000000      30.64  \n",
       "Zambia               61.000000      35.42  \n",
       "Zimbabwe             66.800003      37.34  \n",
       "\n",
       "[213 rows x 5 columns]"
      ]
     },
     "execution_count": 27,
     "metadata": {},
     "output_type": "execute_result"
    }
   ],
   "source": [
    "mydata.set_index(\"country\")"
   ]
  },
  {
   "cell_type": "markdown",
   "id": "517a6469-f055-40aa-bb9a-708a3d3d53be",
   "metadata": {},
   "source": [
    "Web Scraping"
   ]
  },
  {
   "cell_type": "code",
   "execution_count": 4,
   "id": "2dd89d4c-08ab-43e2-80ad-e3cf94d6a031",
   "metadata": {},
   "outputs": [],
   "source": [
    "import requests"
   ]
  },
  {
   "cell_type": "code",
   "execution_count": 5,
   "id": "ea813752-8702-4bcd-8896-35d740cf82ac",
   "metadata": {},
   "outputs": [],
   "source": [
    "eir = requests.get('https://www.eir.ie/broadband/')"
   ]
  },
  {
   "cell_type": "code",
   "execution_count": 6,
   "id": "3b99afb0-1faa-41fe-8982-e65edf8abf4c",
   "metadata": {},
   "outputs": [
    {
     "data": {
      "text/plain": [
       "<Response [200]>"
      ]
     },
     "execution_count": 6,
     "metadata": {},
     "output_type": "execute_result"
    }
   ],
   "source": [
    "eir"
   ]
  },
  {
   "cell_type": "code",
   "execution_count": 8,
   "id": "a557bab8-4c2a-4b31-a877-bb2a558194bc",
   "metadata": {},
   "outputs": [],
   "source": [
    "from bs4 import BeautifulSoup as bs"
   ]
  },
  {
   "cell_type": "code",
   "execution_count": 10,
   "id": "8e7f58b7-23f6-404d-afa6-6dd29c693608",
   "metadata": {},
   "outputs": [],
   "source": [
    "broadbanddeal = bs(eir.content, 'lxml')"
   ]
  },
  {
   "cell_type": "code",
   "execution_count": 12,
   "id": "69aba00f-1e45-4a00-8cea-01bbc40f1cef",
   "metadata": {},
   "outputs": [
    {
     "data": {
      "text/plain": [
       "'Broadband - Broadband Deals | eir Gigabit Fibre Broadband'"
      ]
     },
     "execution_count": 12,
     "metadata": {},
     "output_type": "execute_result"
    }
   ],
   "source": [
    "broadbanddeal.title.text"
   ]
  },
  {
   "cell_type": "markdown",
   "id": "422ec9d7-c6d4-4550-95db-9967dfae1d3a",
   "metadata": {},
   "source": [
    "Looping"
   ]
  },
  {
   "cell_type": "code",
   "execution_count": 8,
   "id": "2419c096-a262-408a-abe9-53bce6fcd3d1",
   "metadata": {},
   "outputs": [],
   "source": [
    "import pandas as pd"
   ]
  },
  {
   "cell_type": "code",
   "execution_count": 1,
   "id": "69bb94f8-234e-4da7-bda6-50b1a0931ee4",
   "metadata": {},
   "outputs": [],
   "source": [
    "import numpy as np"
   ]
  },
  {
   "cell_type": "code",
   "execution_count": 2,
   "id": "955dbaf0-7deb-4dbc-978a-53d16a67f459",
   "metadata": {},
   "outputs": [],
   "source": [
    "import seaborn as sns"
   ]
  },
  {
   "cell_type": "code",
   "execution_count": 9,
   "id": "35cfb7a6-1824-4a99-9b4f-c701c491c3e0",
   "metadata": {},
   "outputs": [],
   "source": [
    "mydata = pd.read_csv(r'C:\\Users\\deor1\\OneDrive\\Desktop\\ucd data analysis\\gapminder_alcohol.csv')"
   ]
  },
  {
   "cell_type": "code",
   "execution_count": 26,
   "id": "3ef22cfe-d0e6-40a4-9407-67791afd4e95",
   "metadata": {},
   "outputs": [],
   "source": [
    "my_new_data = mydata.fillna(0)"
   ]
  },
  {
   "cell_type": "code",
   "execution_count": 27,
   "id": "e17e0c28-da87-46f6-ab1b-ae91ed14ea22",
   "metadata": {},
   "outputs": [
    {
     "name": "stdout",
     "output_type": "stream",
     "text": [
      "       country  alcconsumption  incomeperperson  suicideper100th  employrate  \\\n",
      "0  Afghanistan            0.03         0.000000         6.684385   55.700001   \n",
      "1      Albania            7.29      1914.996551         7.699330   51.400002   \n",
      "2      Algeria            0.69      2231.993335         4.848770   50.500000   \n",
      "3      Andorra           10.17     21943.339900         5.362179    0.000000   \n",
      "4       Angola            5.57      1381.004268        14.554677   75.699997   \n",
      "\n",
      "   urbanrate  \n",
      "0      24.04  \n",
      "1      46.72  \n",
      "2      65.22  \n",
      "3      88.92  \n",
      "4      56.70  \n"
     ]
    }
   ],
   "source": [
    "print(my_new_data.head())"
   ]
  },
  {
   "cell_type": "code",
   "execution_count": 30,
   "id": "6362f0ac-2713-44ca-a1b3-acb3bfa640b5",
   "metadata": {},
   "outputs": [],
   "source": [
    "my_indexed_data = my_new_data.set_index(\"country\")"
   ]
  },
  {
   "cell_type": "code",
   "execution_count": 31,
   "id": "1ad4531c-2e81-40c5-b639-a811d50fc076",
   "metadata": {},
   "outputs": [
    {
     "name": "stdout",
     "output_type": "stream",
     "text": [
      "             alcconsumption  incomeperperson  suicideper100th  employrate  \\\n",
      "country                                                                     \n",
      "Afghanistan            0.03         0.000000         6.684385   55.700001   \n",
      "Albania                7.29      1914.996551         7.699330   51.400002   \n",
      "Algeria                0.69      2231.993335         4.848770   50.500000   \n",
      "Andorra               10.17     21943.339900         5.362179    0.000000   \n",
      "Angola                 5.57      1381.004268        14.554677   75.699997   \n",
      "\n",
      "             urbanrate  \n",
      "country                 \n",
      "Afghanistan      24.04  \n",
      "Albania          46.72  \n",
      "Algeria          65.22  \n",
      "Andorra          88.92  \n",
      "Angola           56.70  \n"
     ]
    }
   ],
   "source": [
    "print(my_indexed_data.head())"
   ]
  },
  {
   "cell_type": "code",
   "execution_count": 32,
   "id": "d72feb8b-2c3b-4e7f-8707-05409f7afa8f",
   "metadata": {},
   "outputs": [
    {
     "name": "stdout",
     "output_type": "stream",
     "text": [
      "alcconsumption\n",
      "incomeperperson\n",
      "suicideper100th\n",
      "employrate\n",
      "urbanrate\n"
     ]
    }
   ],
   "source": [
    "for x in my_indexed_data:\n",
    "    print(x)"
   ]
  },
  {
   "cell_type": "code",
   "execution_count": 36,
   "id": "b0926c7c-a713-4277-a24c-53181940e7b9",
   "metadata": {},
   "outputs": [
    {
     "data": {
      "text/html": [
       "<div>\n",
       "<style scoped>\n",
       "    .dataframe tbody tr th:only-of-type {\n",
       "        vertical-align: middle;\n",
       "    }\n",
       "\n",
       "    .dataframe tbody tr th {\n",
       "        vertical-align: top;\n",
       "    }\n",
       "\n",
       "    .dataframe thead th {\n",
       "        text-align: right;\n",
       "    }\n",
       "</style>\n",
       "<table border=\"1\" class=\"dataframe\">\n",
       "  <thead>\n",
       "    <tr style=\"text-align: right;\">\n",
       "      <th></th>\n",
       "      <th>alcconsumption</th>\n",
       "      <th>incomeperperson</th>\n",
       "      <th>suicideper100th</th>\n",
       "      <th>employrate</th>\n",
       "      <th>urbanrate</th>\n",
       "      <th>alc_consumption_per_income</th>\n",
       "    </tr>\n",
       "    <tr>\n",
       "      <th>country</th>\n",
       "      <th></th>\n",
       "      <th></th>\n",
       "      <th></th>\n",
       "      <th></th>\n",
       "      <th></th>\n",
       "      <th></th>\n",
       "    </tr>\n",
       "  </thead>\n",
       "  <tbody>\n",
       "    <tr>\n",
       "      <th>Afghanistan</th>\n",
       "      <td>0.03</td>\n",
       "      <td>0.000000</td>\n",
       "      <td>6.684385</td>\n",
       "      <td>55.700001</td>\n",
       "      <td>24.04</td>\n",
       "      <td>0.00</td>\n",
       "    </tr>\n",
       "    <tr>\n",
       "      <th>Albania</th>\n",
       "      <td>7.29</td>\n",
       "      <td>1914.996551</td>\n",
       "      <td>7.699330</td>\n",
       "      <td>51.400002</td>\n",
       "      <td>46.72</td>\n",
       "      <td>262.69</td>\n",
       "    </tr>\n",
       "    <tr>\n",
       "      <th>Algeria</th>\n",
       "      <td>0.69</td>\n",
       "      <td>2231.993335</td>\n",
       "      <td>4.848770</td>\n",
       "      <td>50.500000</td>\n",
       "      <td>65.22</td>\n",
       "      <td>3234.77</td>\n",
       "    </tr>\n",
       "    <tr>\n",
       "      <th>Andorra</th>\n",
       "      <td>10.17</td>\n",
       "      <td>21943.339900</td>\n",
       "      <td>5.362179</td>\n",
       "      <td>0.000000</td>\n",
       "      <td>88.92</td>\n",
       "      <td>2157.65</td>\n",
       "    </tr>\n",
       "    <tr>\n",
       "      <th>Angola</th>\n",
       "      <td>5.57</td>\n",
       "      <td>1381.004268</td>\n",
       "      <td>14.554677</td>\n",
       "      <td>75.699997</td>\n",
       "      <td>56.70</td>\n",
       "      <td>247.94</td>\n",
       "    </tr>\n",
       "  </tbody>\n",
       "</table>\n",
       "</div>"
      ],
      "text/plain": [
       "             alcconsumption  incomeperperson  suicideper100th  employrate  \\\n",
       "country                                                                     \n",
       "Afghanistan            0.03         0.000000         6.684385   55.700001   \n",
       "Albania                7.29      1914.996551         7.699330   51.400002   \n",
       "Algeria                0.69      2231.993335         4.848770   50.500000   \n",
       "Andorra               10.17     21943.339900         5.362179    0.000000   \n",
       "Angola                 5.57      1381.004268        14.554677   75.699997   \n",
       "\n",
       "             urbanrate  alc_consumption_per_income  \n",
       "country                                             \n",
       "Afghanistan      24.04                        0.00  \n",
       "Albania          46.72                      262.69  \n",
       "Algeria          65.22                     3234.77  \n",
       "Andorra          88.92                     2157.65  \n",
       "Angola           56.70                      247.94  "
      ]
     },
     "execution_count": 36,
     "metadata": {},
     "output_type": "execute_result"
    }
   ],
   "source": [
    "my_indexed_data['alc_consumption_per_income'] = round(my_indexed_data['incomeperperson']/ my_indexed_data['alcconsumption'], 2)\n",
    "my_indexed_data.head()"
   ]
  },
  {
   "cell_type": "raw",
   "id": "20486d4e-4e15-45e3-addd-0bda25e23f44",
   "metadata": {},
   "source": [
    "\n",
    "Merge DataFrames"
   ]
  },
  {
   "cell_type": "code",
   "execution_count": 46,
   "id": "bf2723b4-f2c4-4dbb-a79c-2f7f270b8e44",
   "metadata": {},
   "outputs": [],
   "source": [
    "mydata = pd.read_csv(r'C:\\Users\\deor1\\OneDrive\\Desktop\\ucd data analysis\\gapminder_alcohol.csv')"
   ]
  },
  {
   "cell_type": "code",
   "execution_count": 47,
   "id": "3861ee8a-5651-486f-884d-4e8707c8825b",
   "metadata": {},
   "outputs": [],
   "source": [
    "my_data_drinks = pd.read_csv(r'C:\\Users\\deor1\\OneDrive\\Desktop\\ucd data analysis\\drinks.csv')"
   ]
  },
  {
   "cell_type": "code",
   "execution_count": 54,
   "id": "e5321793-d90e-4906-89ef-8a400c1331f3",
   "metadata": {},
   "outputs": [
    {
     "data": {
      "text/html": [
       "<div>\n",
       "<style scoped>\n",
       "    .dataframe tbody tr th:only-of-type {\n",
       "        vertical-align: middle;\n",
       "    }\n",
       "\n",
       "    .dataframe tbody tr th {\n",
       "        vertical-align: top;\n",
       "    }\n",
       "\n",
       "    .dataframe thead th {\n",
       "        text-align: right;\n",
       "    }\n",
       "</style>\n",
       "<table border=\"1\" class=\"dataframe\">\n",
       "  <thead>\n",
       "    <tr style=\"text-align: right;\">\n",
       "      <th></th>\n",
       "      <th>beer_servings</th>\n",
       "      <th>spirit_servings</th>\n",
       "      <th>wine_servings</th>\n",
       "      <th>total_litres_of_pure_alcohol</th>\n",
       "      <th>alcconsumption</th>\n",
       "      <th>incomeperperson</th>\n",
       "      <th>suicideper100th</th>\n",
       "      <th>employrate</th>\n",
       "      <th>urbanrate</th>\n",
       "    </tr>\n",
       "    <tr>\n",
       "      <th>country</th>\n",
       "      <th></th>\n",
       "      <th></th>\n",
       "      <th></th>\n",
       "      <th></th>\n",
       "      <th></th>\n",
       "      <th></th>\n",
       "      <th></th>\n",
       "      <th></th>\n",
       "      <th></th>\n",
       "    </tr>\n",
       "  </thead>\n",
       "  <tbody>\n",
       "    <tr>\n",
       "      <th>Afghanistan</th>\n",
       "      <td>0</td>\n",
       "      <td>0</td>\n",
       "      <td>0</td>\n",
       "      <td>0.0</td>\n",
       "      <td>0.03</td>\n",
       "      <td>0.000000</td>\n",
       "      <td>6.684385</td>\n",
       "      <td>55.700001</td>\n",
       "      <td>24.04</td>\n",
       "    </tr>\n",
       "    <tr>\n",
       "      <th>Albania</th>\n",
       "      <td>89</td>\n",
       "      <td>132</td>\n",
       "      <td>54</td>\n",
       "      <td>4.9</td>\n",
       "      <td>7.29</td>\n",
       "      <td>1914.996551</td>\n",
       "      <td>7.699330</td>\n",
       "      <td>51.400002</td>\n",
       "      <td>46.72</td>\n",
       "    </tr>\n",
       "    <tr>\n",
       "      <th>Algeria</th>\n",
       "      <td>25</td>\n",
       "      <td>0</td>\n",
       "      <td>14</td>\n",
       "      <td>0.7</td>\n",
       "      <td>0.69</td>\n",
       "      <td>2231.993335</td>\n",
       "      <td>4.848770</td>\n",
       "      <td>50.500000</td>\n",
       "      <td>65.22</td>\n",
       "    </tr>\n",
       "    <tr>\n",
       "      <th>Andorra</th>\n",
       "      <td>245</td>\n",
       "      <td>138</td>\n",
       "      <td>312</td>\n",
       "      <td>12.4</td>\n",
       "      <td>10.17</td>\n",
       "      <td>21943.339900</td>\n",
       "      <td>5.362179</td>\n",
       "      <td>0.000000</td>\n",
       "      <td>88.92</td>\n",
       "    </tr>\n",
       "    <tr>\n",
       "      <th>Angola</th>\n",
       "      <td>217</td>\n",
       "      <td>57</td>\n",
       "      <td>45</td>\n",
       "      <td>5.9</td>\n",
       "      <td>5.57</td>\n",
       "      <td>1381.004268</td>\n",
       "      <td>14.554677</td>\n",
       "      <td>75.699997</td>\n",
       "      <td>56.70</td>\n",
       "    </tr>\n",
       "    <tr>\n",
       "      <th>...</th>\n",
       "      <td>...</td>\n",
       "      <td>...</td>\n",
       "      <td>...</td>\n",
       "      <td>...</td>\n",
       "      <td>...</td>\n",
       "      <td>...</td>\n",
       "      <td>...</td>\n",
       "      <td>...</td>\n",
       "      <td>...</td>\n",
       "    </tr>\n",
       "    <tr>\n",
       "      <th>Vanuatu</th>\n",
       "      <td>21</td>\n",
       "      <td>18</td>\n",
       "      <td>11</td>\n",
       "      <td>0.9</td>\n",
       "      <td>0.96</td>\n",
       "      <td>1543.956457</td>\n",
       "      <td>4.983422</td>\n",
       "      <td>0.000000</td>\n",
       "      <td>24.76</td>\n",
       "    </tr>\n",
       "    <tr>\n",
       "      <th>Venezuela</th>\n",
       "      <td>333</td>\n",
       "      <td>100</td>\n",
       "      <td>3</td>\n",
       "      <td>7.7</td>\n",
       "      <td>7.60</td>\n",
       "      <td>5528.363114</td>\n",
       "      <td>4.119620</td>\n",
       "      <td>59.900002</td>\n",
       "      <td>93.32</td>\n",
       "    </tr>\n",
       "    <tr>\n",
       "      <th>Vietnam</th>\n",
       "      <td>111</td>\n",
       "      <td>2</td>\n",
       "      <td>1</td>\n",
       "      <td>2.0</td>\n",
       "      <td>3.91</td>\n",
       "      <td>722.807559</td>\n",
       "      <td>11.653322</td>\n",
       "      <td>71.000000</td>\n",
       "      <td>27.84</td>\n",
       "    </tr>\n",
       "    <tr>\n",
       "      <th>Zambia</th>\n",
       "      <td>32</td>\n",
       "      <td>19</td>\n",
       "      <td>4</td>\n",
       "      <td>2.5</td>\n",
       "      <td>3.56</td>\n",
       "      <td>432.226337</td>\n",
       "      <td>12.019036</td>\n",
       "      <td>61.000000</td>\n",
       "      <td>35.42</td>\n",
       "    </tr>\n",
       "    <tr>\n",
       "      <th>Zimbabwe</th>\n",
       "      <td>64</td>\n",
       "      <td>18</td>\n",
       "      <td>4</td>\n",
       "      <td>4.7</td>\n",
       "      <td>4.96</td>\n",
       "      <td>320.771890</td>\n",
       "      <td>13.905267</td>\n",
       "      <td>66.800003</td>\n",
       "      <td>37.34</td>\n",
       "    </tr>\n",
       "  </tbody>\n",
       "</table>\n",
       "<p>172 rows × 9 columns</p>\n",
       "</div>"
      ],
      "text/plain": [
       "             beer_servings  spirit_servings  wine_servings  \\\n",
       "country                                                      \n",
       "Afghanistan              0                0              0   \n",
       "Albania                 89              132             54   \n",
       "Algeria                 25                0             14   \n",
       "Andorra                245              138            312   \n",
       "Angola                 217               57             45   \n",
       "...                    ...              ...            ...   \n",
       "Vanuatu                 21               18             11   \n",
       "Venezuela              333              100              3   \n",
       "Vietnam                111                2              1   \n",
       "Zambia                  32               19              4   \n",
       "Zimbabwe                64               18              4   \n",
       "\n",
       "             total_litres_of_pure_alcohol  alcconsumption  incomeperperson  \\\n",
       "country                                                                      \n",
       "Afghanistan                           0.0            0.03         0.000000   \n",
       "Albania                               4.9            7.29      1914.996551   \n",
       "Algeria                               0.7            0.69      2231.993335   \n",
       "Andorra                              12.4           10.17     21943.339900   \n",
       "Angola                                5.9            5.57      1381.004268   \n",
       "...                                   ...             ...              ...   \n",
       "Vanuatu                               0.9            0.96      1543.956457   \n",
       "Venezuela                             7.7            7.60      5528.363114   \n",
       "Vietnam                               2.0            3.91       722.807559   \n",
       "Zambia                                2.5            3.56       432.226337   \n",
       "Zimbabwe                              4.7            4.96       320.771890   \n",
       "\n",
       "             suicideper100th  employrate  urbanrate  \n",
       "country                                              \n",
       "Afghanistan         6.684385   55.700001      24.04  \n",
       "Albania             7.699330   51.400002      46.72  \n",
       "Algeria             4.848770   50.500000      65.22  \n",
       "Andorra             5.362179    0.000000      88.92  \n",
       "Angola             14.554677   75.699997      56.70  \n",
       "...                      ...         ...        ...  \n",
       "Vanuatu             4.983422    0.000000      24.76  \n",
       "Venezuela           4.119620   59.900002      93.32  \n",
       "Vietnam            11.653322   71.000000      27.84  \n",
       "Zambia             12.019036   61.000000      35.42  \n",
       "Zimbabwe           13.905267   66.800003      37.34  \n",
       "\n",
       "[172 rows x 9 columns]"
      ]
     },
     "execution_count": 54,
     "metadata": {},
     "output_type": "execute_result"
    }
   ],
   "source": [
    "my_data_drinks.merge(mydata).set_index('country').fillna(0)"
   ]
  },
  {
   "cell_type": "markdown",
   "id": "f2845dd8-a90b-4dc0-93ce-b120620bed86",
   "metadata": {},
   "source": [
    "Visualisation"
   ]
  },
  {
   "cell_type": "code",
   "execution_count": 55,
   "id": "cf65065b-479f-441b-ad06-69c99972bc13",
   "metadata": {},
   "outputs": [],
   "source": [
    "import pandas as pd"
   ]
  },
  {
   "cell_type": "code",
   "execution_count": 56,
   "id": "4a86958f-cff5-4ad0-b04c-5df54d7b942f",
   "metadata": {},
   "outputs": [],
   "source": [
    "import matplotlib.pyplot as plt"
   ]
  },
  {
   "cell_type": "code",
   "execution_count": 57,
   "id": "30441223-0493-416e-b7b3-e12357f4f42d",
   "metadata": {},
   "outputs": [],
   "source": [
    "import seaborn as sns"
   ]
  },
  {
   "cell_type": "code",
   "execution_count": 85,
   "id": "52d1e5d4-2bff-45fa-9711-86e9bc3dfa3c",
   "metadata": {},
   "outputs": [],
   "source": [
    "drinks = pd.read_csv(r'C:\\Users\\deor1\\OneDrive\\Desktop\\ucd data analysis\\drinks.csv')"
   ]
  },
  {
   "cell_type": "code",
   "execution_count": 86,
   "id": "ed872e30-77aa-4a50-b454-16d5e275a50f",
   "metadata": {},
   "outputs": [
    {
     "name": "stdout",
     "output_type": "stream",
     "text": [
      "       country  beer_servings  spirit_servings  wine_servings  \\\n",
      "0  Afghanistan              0                0              0   \n",
      "1      Albania             89              132             54   \n",
      "2      Algeria             25                0             14   \n",
      "3      Andorra            245              138            312   \n",
      "4       Angola            217               57             45   \n",
      "\n",
      "   total_litres_of_pure_alcohol  \n",
      "0                           0.0  \n",
      "1                           4.9  \n",
      "2                           0.7  \n",
      "3                          12.4  \n",
      "4                           5.9  \n"
     ]
    }
   ],
   "source": [
    "print(drinks.head())"
   ]
  },
  {
   "cell_type": "code",
   "execution_count": 87,
   "id": "72738f46-2c48-4501-bff6-f6f15205405d",
   "metadata": {},
   "outputs": [
    {
     "data": {
      "text/plain": [
       "country                          object\n",
       "beer_servings                     int64\n",
       "spirit_servings                   int64\n",
       "wine_servings                     int64\n",
       "total_litres_of_pure_alcohol    float64\n",
       "dtype: object"
      ]
     },
     "execution_count": 87,
     "metadata": {},
     "output_type": "execute_result"
    }
   ],
   "source": [
    "drinks.dtypes"
   ]
  },
  {
   "cell_type": "markdown",
   "id": "0fad3b02-fc9e-406a-a4d8-4e2e9ee5fd08",
   "metadata": {},
   "source": [
    "matplotlib"
   ]
  },
  {
   "cell_type": "code",
   "execution_count": 89,
   "id": "e09a7358-ea88-4180-ad1d-05b9e11460c6",
   "metadata": {},
   "outputs": [
    {
     "data": {
      "text/plain": [
       "Text(0.5, 1.0, 'Alcohol consumption by country')"
      ]
     },
     "execution_count": 89,
     "metadata": {},
     "output_type": "execute_result"
    },
    {
     "data": {
      "image/png": "[encoded data removed]",
      "text/plain": [
       "<Figure size 432x288 with 1 Axes>"
      ]
     },
     "metadata": {
      "needs_background": "light"
     },
     "output_type": "display_data"
    }
   ],
   "source": [
    "plt.scatter(drinks['wine_servings'],drinks['beer_servings'],);\n",
    "plt.xlabel('wine_servings (liters)')\n",
    "plt.ylabel('beer_servings (liters)')\n",
    "plt.title('Alcohol consumption by country')"
   ]
  },
  {
   "cell_type": "markdown",
   "id": "0c44f8a2-528f-4b3d-93b7-28e5fa82f5f8",
   "metadata": {},
   "source": [
    "pandas"
   ]
  },
  {
   "cell_type": "code",
   "execution_count": 90,
   "id": "d567325b-d4a4-494c-8dc7-d57452390c26",
   "metadata": {},
   "outputs": [
    {
     "data": {
      "text/plain": [
       "<AxesSubplot:xlabel='beer_servings', ylabel='wine_servings'>"
      ]
     },
     "execution_count": 90,
     "metadata": {},
     "output_type": "execute_result"
    },
    {
     "data": {
      "image/png": "[encoded data removed]",
      "text/plain": [
       "<Figure size 432x288 with 1 Axes>"
      ]
     },
     "metadata": {
      "needs_background": "light"
     },
     "output_type": "display_data"
    }
   ],
   "source": [
    "drinks.plot(kind ='scatter', x='beer_servings', y='wine_servings' )"
   ]
  },
  {
   "cell_type": "markdown",
   "id": "42c4664c-a3c7-42de-818b-c20d7dbe7920",
   "metadata": {},
   "source": [
    "seaborn"
   ]
  },
  {
   "cell_type": "code",
   "execution_count": 92,
   "id": "c4062891-8cd3-44c0-9a94-7b98a2921de5",
   "metadata": {
    "tags": []
   },
   "outputs": [
    {
     "data": {
      "text/plain": [
       "<AxesSubplot:xlabel='beer_servings', ylabel='wine_servings'>"
      ]
     },
     "execution_count": 92,
     "metadata": {},
     "output_type": "execute_result"
    },
    {
     "data": {
      "image/png": "[encoded data removed]",
      "text/plain": [
       "<Figure size 432x288 with 1 Axes>"
      ]
     },
     "metadata": {
      "needs_background": "light"
     },
     "output_type": "display_data"
    }
   ],
   "source": [
    "sns.scatterplot(data=drinks, x='beer_servings', y='wine_servings', hue='spirit_servings', size= 'spirit_servings')"
   ]
  },
  {
   "cell_type": "code",
   "execution_count": 130,
   "id": "4d7935ba-f6da-4ec1-b7ed-ff1033c84f1b",
   "metadata": {},
   "outputs": [],
   "source": [
    "Covid_cases =pd.read_csv(r'C:\\Users\\deor1\\OneDrive\\Desktop\\ucd data analysis\\country_wise_latest.csv')\n"
   ]
  },
  {
   "cell_type": "code",
   "execution_count": 135,
   "id": "09c5a032-61d0-452a-beb9-bb49b66d32e3",
   "metadata": {},
   "outputs": [
    {
     "name": "stdout",
     "output_type": "stream",
     "text": [
      "  Country/Region  Confirmed  Deaths  Recovered  Active  New cases  New deaths  \\\n",
      "0    Afghanistan      36263    1269      25198    9796        106          10   \n",
      "1        Albania       4880     144       2745    1991        117           6   \n",
      "2        Algeria      27973    1163      18837    7973        616           8   \n",
      "3        Andorra        907      52        803      52         10           0   \n",
      "4         Angola        950      41        242     667         18           1   \n",
      "\n",
      "   New recovered  Deaths / 100 Cases  Recovered / 100 Cases  \\\n",
      "0             18                3.50                  69.49   \n",
      "1             63                2.95                  56.25   \n",
      "2            749                4.16                  67.34   \n",
      "3              0                5.73                  88.53   \n",
      "4              0                4.32                  25.47   \n",
      "\n",
      "   Deaths / 100 Recovered  Confirmed last week  1 week change  \\\n",
      "0                    5.04                35526            737   \n",
      "1                    5.25                 4171            709   \n",
      "2                    6.17                23691           4282   \n",
      "3                    6.48                  884             23   \n",
      "4                   16.94                  749            201   \n",
      "\n",
      "   1 week % increase             WHO Region  \n",
      "0               2.07  Eastern Mediterranean  \n",
      "1              17.00                 Europe  \n",
      "2              18.07                 Africa  \n",
      "3               2.60                 Europe  \n",
      "4              26.84                 Africa  \n"
     ]
    }
   ],
   "source": [
    "print(Covid_cases.head())"
   ]
  },
  {
   "cell_type": "code",
   "execution_count": 149,
   "id": "b05e0665-d1d4-463d-9093-d340f599e66d",
   "metadata": {},
   "outputs": [],
   "source": [
    "Covid_cases.drop_duplicates(inplace=True)"
   ]
  },
  {
   "cell_type": "code",
   "execution_count": 151,
   "id": "9a617261-d489-44ff-91cc-335befa2c1c7",
   "metadata": {},
   "outputs": [
    {
     "name": "stdout",
     "output_type": "stream",
     "text": [
      "  Country/Region  Confirmed  Deaths  Recovered  Active  New cases  New deaths  \\\n",
      "0    Afghanistan      36263    1269      25198    9796        106          10   \n",
      "1        Albania       4880     144       2745    1991        117           6   \n",
      "2        Algeria      27973    1163      18837    7973        616           8   \n",
      "3        Andorra        907      52        803      52         10           0   \n",
      "4         Angola        950      41        242     667         18           1   \n",
      "\n",
      "   New recovered  Deaths / 100 Cases  Recovered / 100 Cases  \\\n",
      "0             18                3.50                  69.49   \n",
      "1             63                2.95                  56.25   \n",
      "2            749                4.16                  67.34   \n",
      "3              0                5.73                  88.53   \n",
      "4              0                4.32                  25.47   \n",
      "\n",
      "   Deaths / 100 Recovered  Confirmed last week  1 week change  \\\n",
      "0                    5.04                35526            737   \n",
      "1                    5.25                 4171            709   \n",
      "2                    6.17                23691           4282   \n",
      "3                    6.48                  884             23   \n",
      "4                   16.94                  749            201   \n",
      "\n",
      "   1 week % increase             WHO Region  \n",
      "0               2.07  Eastern Mediterranean  \n",
      "1              17.00                 Europe  \n",
      "2              18.07                 Africa  \n",
      "3               2.60                 Europe  \n",
      "4              26.84                 Africa  \n"
     ]
    }
   ],
   "source": [
    "print(Covid_cases.head())"
   ]
  },
  {
   "cell_type": "code",
   "execution_count": 152,
   "id": "19efc0be-fc40-4703-8ba8-d343c95639cc",
   "metadata": {},
   "outputs": [
    {
     "data": {
      "text/plain": [
       "Country/Region             object\n",
       "Confirmed                   int64\n",
       "Deaths                      int64\n",
       "Recovered                   int64\n",
       "Active                      int64\n",
       "New cases                   int64\n",
       "New deaths                  int64\n",
       "New recovered               int64\n",
       "Deaths / 100 Cases        float64\n",
       "Recovered / 100 Cases     float64\n",
       "Deaths / 100 Recovered    float64\n",
       "Confirmed last week         int64\n",
       "1 week change               int64\n",
       "1 week % increase         float64\n",
       "WHO Region                 object\n",
       "dtype: object"
      ]
     },
     "execution_count": 152,
     "metadata": {},
     "output_type": "execute_result"
    }
   ],
   "source": [
    "Covid_cases.dtypes"
   ]
  },
  {
   "cell_type": "code",
   "execution_count": 153,
   "id": "3706073a-3c2b-4146-9211-011d503158ec",
   "metadata": {},
   "outputs": [],
   "source": [
    "import pandas as pd"
   ]
  },
  {
   "cell_type": "code",
   "execution_count": 154,
   "id": "41d90179-929c-4064-8c2b-6fc06b78d32b",
   "metadata": {},
   "outputs": [],
   "source": [
    "import matplotlib.pyplot as pt"
   ]
  },
  {
   "cell_type": "code",
   "execution_count": 155,
   "id": "3cf8f33c-4ba5-4551-96ae-b80c81a5e234",
   "metadata": {},
   "outputs": [],
   "source": [
    "import seaborn as sns"
   ]
  },
  {
   "cell_type": "code",
   "execution_count": 165,
   "id": "c046d0ee-2619-4594-b3fa-7d2ce52a937a",
   "metadata": {},
   "outputs": [
    {
     "data": {
      "text/plain": [
       "Text(0.5, 1.0, 'Covid 19 Cases by Country')"
      ]
     },
     "execution_count": 165,
     "metadata": {},
     "output_type": "execute_result"
    },
    {
     "data": {
      "image/png": "[encoded data removed]",
      "text/plain": [
       "<Figure size 432x288 with 1 Axes>"
      ]
     },
     "metadata": {
      "needs_background": "light"
     },
     "output_type": "display_data"
    }
   ],
   "source": [
    "plt.scatter(Covid_cases['Confirmed'],Covid_cases['Deaths'],);\n",
    "plt.xlabel('Confirmed')\n",
    "plt.ylabel('Deaths')\n",
    "plt.title('Covid 19 Cases by Country')"
   ]
  },
  {
   "cell_type": "code",
   "execution_count": 161,
   "id": "5137ae33-3c4b-4d70-b2ab-08ad7da621e4",
   "metadata": {},
   "outputs": [
    {
     "data": {
      "text/plain": [
       "<AxesSubplot:xlabel='Confirmed', ylabel='Deaths'>"
      ]
     },
     "execution_count": 161,
     "metadata": {},
     "output_type": "execute_result"
    },
    {
     "data": {
      "image/png": "[encoded data removed]",
      "text/plain": [
       "<Figure size 432x288 with 1 Axes>"
      ]
     },
     "metadata": {
      "needs_background": "light"
     },
     "output_type": "display_data"
    }
   ],
   "source": [
    "sns.scatterplot(data=Covid_cases, x='Confirmed', y='Deaths', hue='Recovered', size= 'Recovered')"
   ]
  },
  {
   "cell_type": "code",
   "execution_count": null,
   "id": "a0ecf99d-36e7-4549-9add-5b2a33a145e6",
   "metadata": {},
   "outputs": [],
   "source": []
  }
 ],
 "metadata": {
  "kernelspec": {
   "display_name": "Python 3",
   "language": "python",
   "name": "python3"
  },
  "language_info": {
   "codemirror_mode": {
    "name": "ipython",
    "version": 3
   },
   "file_extension": ".py",
   "mimetype": "text/x-python",
   "name": "python",
   "nbconvert_exporter": "python",
   "pygments_lexer": "ipython3",
   "version": "3.8.8"
  }
 },
 "nbformat": 4,
 "nbformat_minor": 5
}
